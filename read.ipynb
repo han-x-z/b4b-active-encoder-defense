{
 "cells": [
  {
   "cell_type": "code",
   "execution_count": 2,
   "id": "631535e2-4768-44d0-84c4-206b6dbf04a7",
   "metadata": {},
   "outputs": [
    {
     "name": "stdout",
     "output_type": "stream",
     "text": [
      "Data Shape: (3125,)\n",
      "Data Content:\n",
      " [ 0.56396484  0.98388672  1.31958008 ... 63.97583008 63.97705078\n",
      " 63.97827148]\n"
     ]
    }
   ],
   "source": [
    "import numpy as np\n",
    "\n",
    "# 加载 .npy 文件\n",
    "file_path = 'end2end-stealing/resources/coverage/buckets_covered_simsiam_imagenet_256_enhance_attackTrue.npy'\n",
    "data = np.load(file_path)\n",
    "\n",
    "# 查看数据内容和形状\n",
    "print(\"Data Shape:\", data.shape)\n",
    "print(\"Data Content:\\n\", data)\n"
   ]
  },
  {
   "cell_type": "code",
   "execution_count": 5,
   "id": "e0419086-3988-4f9d-9664-9033eb584a19",
   "metadata": {},
   "outputs": [
    {
     "name": "stdout",
     "output_type": "stream",
     "text": [
      "Keys in the .npz file: KeysView(<numpy.lib.npyio.NpzFile object at 0x753ba8484820>)\n",
      "Array 1 shape: (256, 2048)\n",
      "Array 1 data: [[0.0000000e+00 5.8911199e-04 2.9567431e-03 ... 9.1399644e-03\n",
      "  3.1163832e-03 1.5125244e-02]\n",
      " [1.5687040e-03 2.4419502e-04 9.2757502e-05 ... 3.7647050e-04\n",
      "  1.0565417e-03 2.0202065e-02]\n",
      " [0.0000000e+00 0.0000000e+00 8.7592838e-05 ... 1.7965408e-02\n",
      "  3.1630117e-03 3.2932928e-03]\n",
      " ...\n",
      " [7.4228406e-04 3.1558366e-04 3.0036788e-03 ... 1.7494810e-03\n",
      "  2.3223122e-03 2.0700654e-02]\n",
      " [1.8741931e-04 5.4553791e-04 0.0000000e+00 ... 3.2037217e-04\n",
      "  2.8985871e-03 0.0000000e+00]\n",
      " [4.7284388e-04 1.4754158e-03 0.0000000e+00 ... 1.0704278e-03\n",
      "  2.9054990e-03 3.6900118e-03]]\n"
     ]
    }
   ],
   "source": [
    "import numpy as np\n",
    "\n",
    "# 加载 .npz 文件\n",
    "data = np.load('end2end-stealing/outputs/clean_output.npz')  # 替换为你的文件路径\n",
    "\n",
    "# 查看 .npz 文件中的键（如果有多个数组）\n",
    "print(\"Keys in the .npz file:\", data.keys())\n",
    "\n",
    "# 访问特定的数组（如果知道键名）\n",
    "array1 = data['arr_0']  # 如果你知道保存的键，可以用具体的键名访问\n",
    "\n",
    "# 查看数组内容\n",
    "print(\"Array 1 shape:\", array1.shape)\n",
    "print(\"Array 1 data:\", array1)\n"
   ]
  },
  {
   "cell_type": "code",
   "execution_count": 6,
   "id": "dea2ec3c-8d11-4200-a250-70f80e3c2d3b",
   "metadata": {},
   "outputs": [
    {
     "name": "stdout",
     "output_type": "stream",
     "text": [
      "Keys in the .npz file: KeysView(<numpy.lib.npyio.NpzFile object at 0x753ba84f2ac0>)\n",
      "Array 1 shape: (256, 2048)\n",
      "Array 1 data: [[ 2.27514817e-03  8.74679768e-04  2.49650958e-03 ...  4.15319018e-03\n",
      "   8.76754231e-04  1.82775594e-02]\n",
      " [ 4.72474145e-04  7.67889258e-04  8.74092861e-04 ...  4.54404420e-04\n",
      "  -4.35247930e-05  3.88831482e-04]\n",
      " [-3.41731997e-04 -1.09781940e-04  7.98701541e-04 ...  1.08698150e-03\n",
      "   1.61702989e-03  6.92031765e-03]\n",
      " ...\n",
      " [ 3.72428400e-03  5.82762550e-05  1.38665701e-03 ...  7.20013119e-03\n",
      "   3.09320982e-03  4.22921381e-04]\n",
      " [ 1.34152779e-03  1.75939745e-03  9.35912784e-03 ...  2.42114114e-03\n",
      "   9.56262345e-04  1.85239362e-03]\n",
      " [ 5.96011174e-04  1.01523125e-04 -1.15571413e-04 ...  2.45153205e-04\n",
      "   1.68693572e-04  1.68011501e-03]]\n"
     ]
    }
   ],
   "source": [
    "import numpy as np\n",
    "\n",
    "# 加载 .npz 文件\n",
    "data = np.load('end2end-stealing/outputs/noisy_output.npz')  # 替换为你的文件路径\n",
    "\n",
    "# 查看 .npz 文件中的键（如果有多个数组）\n",
    "print(\"Keys in the .npz file:\", data.keys())\n",
    "\n",
    "# 访问特定的数组（如果知道键名）\n",
    "array1 = data['arr_0']  # 如果你知道保存的键，可以用具体的键名访问\n",
    "\n",
    "# 查看数组内容\n",
    "print(\"Array 1 shape:\", array1.shape)\n",
    "print(\"Array 1 data:\", array1)\n"
   ]
  },
  {
   "cell_type": "code",
   "execution_count": 7,
   "id": "55434c05-fb28-4ae2-a529-c0643a2f274b",
   "metadata": {},
   "outputs": [
    {
     "name": "stdout",
     "output_type": "stream",
     "text": [
      "Keys in the .npz file: KeysView(<numpy.lib.npyio.NpzFile object at 0x753ba849af10>)\n",
      "Array 1 shape: (128, 2048)\n",
      "Array 1 data: [[ 4.03836282e-04  2.32066144e-04  5.98870509e-04 ...  3.26194626e-04\n",
      "   2.57468055e-04  1.11239385e-02]\n",
      " [ 4.74315695e-03  2.41677975e-03 -4.16708004e-04 ...  3.11537384e-04\n",
      "   1.35808846e-03  5.32863848e-03]\n",
      " [ 5.14770101e-04 -4.39861033e-04  8.87340138e-05 ... -3.65894288e-04\n",
      "  -6.26346970e-04  1.51721761e-02]\n",
      " ...\n",
      " [ 1.90764619e-03 -3.23304877e-04 -8.99672887e-06 ...  9.84204700e-04\n",
      "  -3.81626305e-04  8.29539821e-03]\n",
      " [ 4.68378479e-04 -4.92530467e-04  1.87213742e-03 ... -2.21944792e-05\n",
      "  -6.39373786e-04  1.88697467e-03]\n",
      " [ 3.31071112e-03  8.39580782e-04  1.68991019e-03 ...  1.69745286e-03\n",
      "   3.23519314e-04  1.29348235e-02]]\n"
     ]
    }
   ],
   "source": [
    "import numpy as np\n",
    "\n",
    "# 加载 .npz 文件\n",
    "data = np.load('end2end-stealing/outputs/denoised_output.npz')  # 替换为你的文件路径\n",
    "\n",
    "# 查看 .npz 文件中的键（如果有多个数组）\n",
    "print(\"Keys in the .npz file:\", data.keys())\n",
    "\n",
    "# 访问特定的数组（如果知道键名）\n",
    "array1 = data['arr_0']  # 如果你知道保存的键，可以用具体的键名访问\n",
    "\n",
    "# 查看数组内容\n",
    "print(\"Array 1 shape:\", array1.shape)\n",
    "print(\"Array 1 data:\", array1)\n"
   ]
  },
  {
   "cell_type": "code",
   "execution_count": null,
   "id": "96d0e498-4e41-4c90-8996-94ad844c836d",
   "metadata": {},
   "outputs": [],
   "source": []
  }
 ],
 "metadata": {
  "kernelspec": {
   "display_name": "Python 3 (ipykernel)",
   "language": "python",
   "name": "python3"
  },
  "language_info": {
   "codemirror_mode": {
    "name": "ipython",
    "version": 3
   },
   "file_extension": ".py",
   "mimetype": "text/x-python",
   "name": "python",
   "nbconvert_exporter": "python",
   "pygments_lexer": "ipython3",
   "version": "3.9.20"
  }
 },
 "nbformat": 4,
 "nbformat_minor": 5
}
